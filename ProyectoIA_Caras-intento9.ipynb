{
 "cells": [
  {
   "cell_type": "markdown",
   "metadata": {
    "id": "Ks6vLaEIvpPW"
   },
   "source": [
    "# **Identificación de Imágenes Auténticas y Sintéticas : Abordando los Desafíos de las Imágenes Sintéticas en la Sociedad Actual**"
   ]
  },
  {
   "cell_type": "markdown",
   "metadata": {
    "id": "bb4qq8PqUy1C"
   },
   "source": [
    "**Contenido**\n",
    "1. [Configuración del Entorno](#title1)\n",
    "2. [Construcción del Conjunto de Datos](#title2)\n",
    "3. [Creación del Modelo](#title3)"
   ]
  },
  {
   "cell_type": "markdown",
   "metadata": {
    "id": "glMN5HvjVDTW"
   },
   "source": [
    "## Configuración del Entorno<a name=\"title1\"></a>"
   ]
  },
  {
   "cell_type": "code",
   "execution_count": 3,
   "metadata": {},
   "outputs": [
    {
     "name": "stdout",
     "output_type": "stream",
     "text": [
      "[PhysicalDevice(name='/physical_device:GPU:0', device_type='GPU')]\n",
      "2.10.0\n",
      "Configuración de GPU completada\n",
      "¿GPU está disponible?: [PhysicalDevice(name='/physical_device:GPU:0', device_type='GPU')]\n"
     ]
    },
    {
     "data": {
      "text/plain": [
       "105"
      ]
     },
     "execution_count": 3,
     "metadata": {},
     "output_type": "execute_result"
    }
   ],
   "source": [
    "import tensorflow as tf\n",
    "print(tf.config.experimental.list_physical_devices(\"GPU\"))\n",
    "print(tf.__version__)\n",
    "# Para limitar la memoria que usa la GPU\n",
    "gpus = tf.config.list_physical_devices('GPU')\n",
    "if gpus:\n",
    "    try:\n",
    "        # Configurar TensorFlow para que solo utilice la GPU si es necesario\n",
    "        for gpu in gpus:\n",
    "            tf.config.experimental.set_memory_growth(gpu, True)\n",
    "        print(\"Configuración de GPU completada\")\n",
    "    except RuntimeError as e:\n",
    "        print(e)\n",
    "# Verifica que la GPU está disponible\n",
    "print(\"¿GPU está disponible?:\", tf.config.list_physical_devices('GPU'))\n",
    "import os\n",
    "os.environ['TF_FORCE_GPU_ALLOW_GROWTH'] = 'true'\n",
    "import gc\n",
    "import tensorflow as tf\n",
    "from keras import backend as K\n",
    "\n",
    "# Limpiar la memoria del backend\n",
    "K.clear_session()\n",
    "# Forzar la recolección de basura\n",
    "gc.collect()\n"
   ]
  },
  {
   "cell_type": "code",
   "execution_count": 4,
   "metadata": {},
   "outputs": [
    {
     "data": {
      "text/plain": [
       "105"
      ]
     },
     "execution_count": 4,
     "metadata": {},
     "output_type": "execute_result"
    }
   ],
   "source": [
    "# Limpiar la memoria del backend\n",
    "K.clear_session()\n",
    "# Forzar la recolección de basura\n",
    "gc.collect()"
   ]
  },
  {
   "cell_type": "code",
   "execution_count": 5,
   "metadata": {
    "executionInfo": {
     "elapsed": 9701,
     "status": "ok",
     "timestamp": 1731341832412,
     "user": {
      "displayName": "Deciré Jaimes",
      "userId": "01417579230318043908"
     },
     "user_tz": 300
    },
    "id": "4nGU9yscxo7n"
   },
   "outputs": [],
   "source": [
    "#@title Importar todas las librerías de uso.\n",
    "\n",
    "import numpy as np\n",
    "import matplotlib.pyplot as plt\n",
    "import matplotlib.image as mpimg\n",
    "import pandas as pd\n",
    "import seaborn as sns\n",
    "import scipy.stats as stats\n",
    "import glob\n",
    "import cv2\n",
    "import tensorflow as tf\n",
    "from tensorflow.keras import layers, models\n",
    "from tensorflow.keras.models import Sequential, Model, load_model\n",
    "from tensorflow.keras.preprocessing.image import load_img, img_to_array, ImageDataGenerator\n",
    "from tensorflow.keras.optimizers import Adam\n",
    "from tensorflow.keras.callbacks import ModelCheckpoint, EarlyStopping\n",
    "from tensorflow.keras.layers import GlobalAveragePooling2D, Dense, Conv2D, Flatten, MaxPooling2D, Dropout, SpatialDropout2D\n",
    "from tensorflow.keras.metrics import Accuracy, AUC, Precision, Recall, TruePositives, TrueNegatives, FalsePositives, FalseNegatives\n",
    "from sklearn import metrics\n",
    "import matplotlib.image as mpmig\n",
    "from sklearn.preprocessing import LabelEncoder\n",
    "from tensorflow.keras.utils import to_categorical\n",
    "from tensorflow.keras.preprocessing import image_dataset_from_directory\n",
    "import seaborn as sns\n",
    "from sklearn.metrics import confusion_matrix, classification_report, accuracy_score\n",
    "from tensorflow.keras.applications import MobileNetV2, ResNet50\n",
    "from tensorflow.keras.applications.mobilenet_v2 import preprocess_input\n",
    "import numpy as np\n",
    "import matplotlib.pyplot as plt\n",
    "import seaborn as sns\n",
    "from sklearn.metrics import confusion_matrix, classification_report, accuracy_score\n",
    "from sklearn.utils import class_weight\n",
    "from tensorflow.keras import regularizers\n",
    "\n",
    "sns.set_theme()"
   ]
  },
  {
   "cell_type": "markdown",
   "metadata": {
    "id": "4qxgLE4aWYZ1"
   },
   "source": [
    "## Construcción del Conjunto de Datos y Preprocesandolos<a name=\"title2\"></a>"
   ]
  },
  {
   "cell_type": "markdown",
   "metadata": {
    "id": "Si1mUNfNhef9"
   },
   "source": [
    "Fuente: https://www.kaggle.com/datasets/kaustubhdhote/human-faces-dataset & https://www.kaggle.com/datasets/hamzaboulahia/hardfakevsrealfaces/code"
   ]
  },
  {
   "cell_type": "code",
   "execution_count": 6,
   "metadata": {
    "executionInfo": {
     "elapsed": 184,
     "status": "ok",
     "timestamp": 1731341920891,
     "user": {
      "displayName": "Deciré Jaimes",
      "userId": "01417579230318043908"
     },
     "user_tz": 300
    },
    "id": "Z_zqm-Lo9oFa"
   },
   "outputs": [
    {
     "name": "stdout",
     "output_type": "stream",
     "text": [
      "Found 9630 files belonging to 2 classes.\n",
      "Using 7704 files for training.\n",
      "Found 9630 files belonging to 2 classes.\n",
      "Using 1926 files for validation.\n",
      "Found 1289 files belonging to 2 classes.\n",
      "Clases: ['Fake', 'Real']\n"
     ]
    }
   ],
   "source": [
    "# Parámetros\n",
    "batch_size = 32\n",
    "img_height = 178\n",
    "img_width = 178\n",
    "\n",
    "# Directorios de datos\n",
    "train_folder = './Data/Train'\n",
    "test_folder = './Data/Test'\n",
    "\n",
    "# Cargar datasets\n",
    "train_dataset = image_dataset_from_directory(\n",
    "    train_folder,\n",
    "    validation_split=0.2,\n",
    "    subset=\"training\",\n",
    "    seed=123,\n",
    "    image_size=(img_height, img_width),\n",
    "    batch_size=batch_size)\n",
    "\n",
    "validation_dataset = image_dataset_from_directory(\n",
    "    train_folder,\n",
    "    validation_split=0.2,\n",
    "    subset=\"validation\",\n",
    "    seed=123,\n",
    "    image_size=(img_height, img_width),\n",
    "    batch_size=batch_size)\n",
    "\n",
    "test_dataset = image_dataset_from_directory(\n",
    "    test_folder,\n",
    "    image_size=(img_height, img_width),\n",
    "    batch_size=batch_size)\n",
    "\n",
    "# Capturar class_names antes de prefetch\n",
    "class_names = train_dataset.class_names\n",
    "print(\"Clases:\", class_names)\n",
    "\n",
    "# Aplicar prefetch\n",
    "AUTOTUNE = tf.data.AUTOTUNE\n",
    "\n",
    "train_dataset = train_dataset.prefetch(buffer_size=AUTOTUNE)\n",
    "validation_dataset = validation_dataset.prefetch(buffer_size=AUTOTUNE)\n",
    "test_dataset = test_dataset.prefetch(buffer_size=AUTOTUNE)"
   ]
  },
  {
   "cell_type": "code",
   "execution_count": 7,
   "metadata": {},
   "outputs": [],
   "source": [
    "data_augmentation = tf.keras.Sequential([\n",
    "    layers.RandomFlip(\"horizontal_and_vertical\"),\n",
    "    layers.RandomRotation(0.2),\n",
    "    layers.RandomZoom(0.2),\n",
    "    layers.RandomBrightness(0.2),\n",
    "    layers.RandomContrast(0.2),\n",
    "    layers.RandomTranslation(0.2, 0.2), \n",
    "    layers.RandomCrop(img_height, img_width) \n",
    "])"
   ]
  },
  {
   "cell_type": "code",
   "execution_count": 8,
   "metadata": {},
   "outputs": [],
   "source": [
    "# Modelo base y arquitectura\n",
    "base_model = ResNet50(weights='imagenet', include_top=False, input_shape=(img_height, img_width, 3))\n",
    "base_model.trainable = False\n",
    "\n",
    "global_average_layer = layers.GlobalAveragePooling2D()\n",
    "prediction_layer = layers.Dense(1, activation='sigmoid')"
   ]
  },
  {
   "cell_type": "markdown",
   "metadata": {
    "id": "fy07St2fSjpW"
   },
   "source": [
    "# Modelo<a name=\"title3\"></a>\n",
    "\n"
   ]
  },
  {
   "cell_type": "code",
   "execution_count": 11,
   "metadata": {
    "id": "jVpkCu8cHs9L"
   },
   "outputs": [
    {
     "name": "stdout",
     "output_type": "stream",
     "text": [
      "Model: \"model_1\"\n",
      "_________________________________________________________________\n",
      " Layer (type)                Output Shape              Param #   \n",
      "=================================================================\n",
      " input_3 (InputLayer)        [(None, 178, 178, 3)]     0         \n",
      "                                                                 \n",
      " sequential (Sequential)     (None, 178, 178, 3)       0         \n",
      "                                                                 \n",
      " resnet50 (Functional)       (None, 6, 6, 2048)        23587712  \n",
      "                                                                 \n",
      " global_average_pooling2d (G  (None, 2048)             0         \n",
      " lobalAveragePooling2D)                                          \n",
      "                                                                 \n",
      " dropout_2 (Dropout)         (None, 2048)              0         \n",
      "                                                                 \n",
      " dense_2 (Dense)             (None, 128)               262272    \n",
      "                                                                 \n",
      " dropout_3 (Dropout)         (None, 128)               0         \n",
      "                                                                 \n",
      " dense (Dense)               (None, 1)                 129       \n",
      "                                                                 \n",
      "=================================================================\n",
      "Total params: 23,850,113\n",
      "Trainable params: 19,715,329\n",
      "Non-trainable params: 4,134,784\n",
      "_________________________________________________________________\n"
     ]
    }
   ],
   "source": [
    "#@title Construcción del modelo\n",
    "inputs = tf.keras.Input(shape=(img_height, img_width, 3))\n",
    "x = data_augmentation(inputs)\n",
    "x = base_model(x, training=False)\n",
    "x = global_average_layer(x)\n",
    "x = layers.Dropout(0.5)(x)\n",
    "x = layers.Dense(128, activation='relu', kernel_regularizer=regularizers.l2(0.001))(x)\n",
    "x = layers.Dropout(0.3)(x)  # Dropout adicional\n",
    "outputs = prediction_layer(x)\n",
    "model = tf.keras.Model(inputs, outputs)\n",
    "\n",
    "# Fine-tuning\n",
    "base_model.trainable = True\n",
    "fine_tune_at = 100\n",
    "for layer in base_model.layers[:fine_tune_at]:\n",
    "    layer.trainable = False\n",
    "\n",
    "# Compilación del modelo\n",
    "model.compile(optimizer=tf.keras.optimizers.Adam(learning_rate=1e-5),\n",
    "              loss='binary_crossentropy',\n",
    "              metrics=['accuracy'])\n",
    "\n",
    "model.summary()"
   ]
  },
  {
   "cell_type": "code",
   "execution_count": 12,
   "metadata": {
    "id": "Mzar0BhcHvzR"
   },
   "outputs": [
    {
     "name": "stdout",
     "output_type": "stream",
     "text": [
      "Epoch 1/30\n",
      "WARNING:tensorflow:Using a while_loop for converting RngReadAndSkip cause there is no registered converter for this op.\n",
      "WARNING:tensorflow:Using a while_loop for converting Bitcast cause there is no registered converter for this op.\n",
      "WARNING:tensorflow:Using a while_loop for converting Bitcast cause there is no registered converter for this op.\n",
      "WARNING:tensorflow:Using a while_loop for converting StatelessRandomUniformV2 cause there is no registered converter for this op.\n",
      "WARNING:tensorflow:Using a while_loop for converting ImageProjectiveTransformV3 cause there is no registered converter for this op.\n",
      "WARNING:tensorflow:Using a while_loop for converting RngReadAndSkip cause there is no registered converter for this op.\n",
      "WARNING:tensorflow:Using a while_loop for converting Bitcast cause there is no registered converter for this op.\n",
      "WARNING:tensorflow:Using a while_loop for converting Bitcast cause there is no registered converter for this op.\n",
      "WARNING:tensorflow:Using a while_loop for converting StatelessRandomUniformV2 cause there is no registered converter for this op.\n",
      "WARNING:tensorflow:Using a while_loop for converting ImageProjectiveTransformV3 cause there is no registered converter for this op.\n",
      "WARNING:tensorflow:Using a while_loop for converting RngReadAndSkip cause there is no registered converter for this op.\n",
      "WARNING:tensorflow:Using a while_loop for converting Bitcast cause there is no registered converter for this op.\n",
      "WARNING:tensorflow:Using a while_loop for converting Bitcast cause there is no registered converter for this op.\n",
      "WARNING:tensorflow:Using a while_loop for converting StatelessRandomUniformV2 cause there is no registered converter for this op.\n",
      "WARNING:tensorflow:Using a while_loop for converting RngReadAndSkip cause there is no registered converter for this op.\n",
      "WARNING:tensorflow:Using a while_loop for converting Bitcast cause there is no registered converter for this op.\n",
      "WARNING:tensorflow:Using a while_loop for converting Bitcast cause there is no registered converter for this op.\n",
      "WARNING:tensorflow:Using a while_loop for converting StatelessRandomUniformFullIntV2 cause there is no registered converter for this op.\n",
      "WARNING:tensorflow:Using a while_loop for converting StatelessRandomGetKeyCounter cause there is no registered converter for this op.\n",
      "WARNING:tensorflow:Using a while_loop for converting StatelessRandomUniformV2 cause there is no registered converter for this op.\n",
      "WARNING:tensorflow:Using a while_loop for converting AdjustContrastv2 cause Input \"contrast_factor\" of op 'AdjustContrastv2' expected to be loop invariant.\n",
      "WARNING:tensorflow:Using a while_loop for converting RngReadAndSkip cause there is no registered converter for this op.\n",
      "WARNING:tensorflow:Using a while_loop for converting Bitcast cause there is no registered converter for this op.\n",
      "WARNING:tensorflow:Using a while_loop for converting Bitcast cause there is no registered converter for this op.\n",
      "WARNING:tensorflow:Using a while_loop for converting StatelessRandomUniformV2 cause there is no registered converter for this op.\n",
      "WARNING:tensorflow:Using a while_loop for converting RngReadAndSkip cause there is no registered converter for this op.\n",
      "WARNING:tensorflow:Using a while_loop for converting Bitcast cause there is no registered converter for this op.\n",
      "WARNING:tensorflow:Using a while_loop for converting Bitcast cause there is no registered converter for this op.\n",
      "WARNING:tensorflow:Using a while_loop for converting StatelessRandomUniformV2 cause there is no registered converter for this op.\n",
      "WARNING:tensorflow:Using a while_loop for converting RngReadAndSkip cause there is no registered converter for this op.\n",
      "WARNING:tensorflow:Using a while_loop for converting Bitcast cause there is no registered converter for this op.\n",
      "WARNING:tensorflow:Using a while_loop for converting Bitcast cause there is no registered converter for this op.\n",
      "WARNING:tensorflow:Using a while_loop for converting StatelessRandomUniformIntV2 cause there is no registered converter for this op.\n",
      "WARNING:tensorflow:Using a while_loop for converting RngReadAndSkip cause there is no registered converter for this op.\n",
      "WARNING:tensorflow:Using a while_loop for converting Bitcast cause there is no registered converter for this op.\n",
      "WARNING:tensorflow:Using a while_loop for converting Bitcast cause there is no registered converter for this op.\n",
      "WARNING:tensorflow:Using a while_loop for converting StatelessRandomUniformV2 cause there is no registered converter for this op.\n",
      "WARNING:tensorflow:Using a while_loop for converting ImageProjectiveTransformV3 cause there is no registered converter for this op.\n",
      "WARNING:tensorflow:Using a while_loop for converting RngReadAndSkip cause there is no registered converter for this op.\n",
      "WARNING:tensorflow:Using a while_loop for converting Bitcast cause there is no registered converter for this op.\n",
      "WARNING:tensorflow:Using a while_loop for converting Bitcast cause there is no registered converter for this op.\n",
      "WARNING:tensorflow:Using a while_loop for converting StatelessRandomUniformV2 cause there is no registered converter for this op.\n",
      "WARNING:tensorflow:Using a while_loop for converting ImageProjectiveTransformV3 cause there is no registered converter for this op.\n",
      "WARNING:tensorflow:Using a while_loop for converting RngReadAndSkip cause there is no registered converter for this op.\n",
      "WARNING:tensorflow:Using a while_loop for converting Bitcast cause there is no registered converter for this op.\n",
      "WARNING:tensorflow:Using a while_loop for converting Bitcast cause there is no registered converter for this op.\n",
      "WARNING:tensorflow:Using a while_loop for converting StatelessRandomUniformV2 cause there is no registered converter for this op.\n",
      "WARNING:tensorflow:Using a while_loop for converting RngReadAndSkip cause there is no registered converter for this op.\n",
      "WARNING:tensorflow:Using a while_loop for converting Bitcast cause there is no registered converter for this op.\n",
      "WARNING:tensorflow:Using a while_loop for converting Bitcast cause there is no registered converter for this op.\n",
      "WARNING:tensorflow:Using a while_loop for converting StatelessRandomUniformFullIntV2 cause there is no registered converter for this op.\n",
      "WARNING:tensorflow:Using a while_loop for converting StatelessRandomGetKeyCounter cause there is no registered converter for this op.\n",
      "WARNING:tensorflow:Using a while_loop for converting StatelessRandomUniformV2 cause there is no registered converter for this op.\n",
      "WARNING:tensorflow:Using a while_loop for converting AdjustContrastv2 cause Input \"contrast_factor\" of op 'AdjustContrastv2' expected to be loop invariant.\n",
      "WARNING:tensorflow:Using a while_loop for converting RngReadAndSkip cause there is no registered converter for this op.\n",
      "WARNING:tensorflow:Using a while_loop for converting Bitcast cause there is no registered converter for this op.\n",
      "WARNING:tensorflow:Using a while_loop for converting Bitcast cause there is no registered converter for this op.\n",
      "WARNING:tensorflow:Using a while_loop for converting StatelessRandomUniformV2 cause there is no registered converter for this op.\n",
      "WARNING:tensorflow:Using a while_loop for converting RngReadAndSkip cause there is no registered converter for this op.\n",
      "WARNING:tensorflow:Using a while_loop for converting Bitcast cause there is no registered converter for this op.\n",
      "WARNING:tensorflow:Using a while_loop for converting Bitcast cause there is no registered converter for this op.\n",
      "WARNING:tensorflow:Using a while_loop for converting StatelessRandomUniformV2 cause there is no registered converter for this op.\n",
      "WARNING:tensorflow:Using a while_loop for converting RngReadAndSkip cause there is no registered converter for this op.\n",
      "WARNING:tensorflow:Using a while_loop for converting Bitcast cause there is no registered converter for this op.\n",
      "WARNING:tensorflow:Using a while_loop for converting Bitcast cause there is no registered converter for this op.\n",
      "WARNING:tensorflow:Using a while_loop for converting StatelessRandomUniformIntV2 cause there is no registered converter for this op.\n",
      "241/241 [==============================] - 159s 607ms/step - loss: 0.4415 - accuracy: 0.9045 - val_loss: 0.4210 - val_accuracy: 0.9226 - lr: 1.0000e-05\n",
      "Epoch 2/30\n",
      "241/241 [==============================] - 145s 602ms/step - loss: 0.2535 - accuracy: 0.9939 - val_loss: 0.2780 - val_accuracy: 0.9808 - lr: 1.1220e-05\n",
      "Epoch 3/30\n",
      "241/241 [==============================] - 144s 599ms/step - loss: 0.2472 - accuracy: 0.9947 - val_loss: 0.3848 - val_accuracy: 0.9382 - lr: 1.2589e-05\n",
      "Epoch 4/30\n",
      "241/241 [==============================] - 143s 595ms/step - loss: 0.2336 - accuracy: 0.9975 - val_loss: 0.3746 - val_accuracy: 0.9403 - lr: 1.4125e-05\n",
      "Epoch 5/30\n",
      "241/241 [==============================] - 144s 596ms/step - loss: 0.2276 - accuracy: 0.9971 - val_loss: 0.3228 - val_accuracy: 0.9600 - lr: 1.5849e-05\n",
      "Epoch 6/30\n",
      "241/241 [==============================] - 145s 601ms/step - loss: 0.2191 - accuracy: 0.9979 - val_loss: 0.2129 - val_accuracy: 1.0000 - lr: 1.7783e-05\n",
      "Epoch 7/30\n",
      "241/241 [==============================] - 143s 595ms/step - loss: 0.2120 - accuracy: 0.9978 - val_loss: 0.2024 - val_accuracy: 1.0000 - lr: 1.9953e-05\n",
      "Epoch 8/30\n",
      "241/241 [==============================] - 143s 595ms/step - loss: 0.1998 - accuracy: 0.9983 - val_loss: 0.2176 - val_accuracy: 0.9901 - lr: 2.2387e-05\n",
      "Epoch 9/30\n",
      "241/241 [==============================] - 144s 598ms/step - loss: 0.1919 - accuracy: 0.9984 - val_loss: 0.1935 - val_accuracy: 0.9948 - lr: 2.5119e-05\n",
      "Epoch 10/30\n",
      "241/241 [==============================] - 144s 596ms/step - loss: 0.1803 - accuracy: 0.9987 - val_loss: 0.1782 - val_accuracy: 0.9974 - lr: 2.8184e-05\n",
      "Epoch 11/30\n",
      "241/241 [==============================] - 144s 598ms/step - loss: 0.1759 - accuracy: 0.9966 - val_loss: 0.1616 - val_accuracy: 1.0000 - lr: 3.1623e-05\n",
      "Epoch 12/30\n",
      "241/241 [==============================] - 143s 595ms/step - loss: 0.1571 - accuracy: 0.9984 - val_loss: 0.1558 - val_accuracy: 0.9964 - lr: 3.5481e-05\n",
      "Epoch 13/30\n",
      "241/241 [==============================] - 144s 598ms/step - loss: 0.1525 - accuracy: 0.9968 - val_loss: 0.1363 - val_accuracy: 1.0000 - lr: 3.9811e-05\n",
      "Epoch 14/30\n",
      "241/241 [==============================] - 144s 599ms/step - loss: 0.1351 - accuracy: 0.9978 - val_loss: 0.1237 - val_accuracy: 1.0000 - lr: 4.4668e-05\n",
      "Epoch 15/30\n",
      "241/241 [==============================] - 143s 594ms/step - loss: 0.1275 - accuracy: 0.9969 - val_loss: 0.1918 - val_accuracy: 0.9766 - lr: 5.0119e-05\n",
      "Epoch 16/30\n",
      "241/241 [==============================] - 144s 597ms/step - loss: 0.1168 - accuracy: 0.9970 - val_loss: 0.1004 - val_accuracy: 1.0000 - lr: 5.6234e-05\n",
      "Epoch 17/30\n",
      "241/241 [==============================] - 144s 597ms/step - loss: 0.1087 - accuracy: 0.9957 - val_loss: 0.0983 - val_accuracy: 0.9964 - lr: 6.3096e-05\n",
      "Epoch 18/30\n",
      "241/241 [==============================] - 143s 595ms/step - loss: 0.0999 - accuracy: 0.9948 - val_loss: 0.0767 - val_accuracy: 0.9995 - lr: 7.0795e-05\n",
      "Epoch 19/30\n",
      "241/241 [==============================] - 144s 597ms/step - loss: 0.0733 - accuracy: 0.9992 - val_loss: 0.0650 - val_accuracy: 1.0000 - lr: 7.9433e-05\n",
      "Epoch 20/30\n",
      "241/241 [==============================] - 145s 603ms/step - loss: 0.0617 - accuracy: 0.9991 - val_loss: 0.0552 - val_accuracy: 1.0000 - lr: 8.9125e-05\n",
      "Epoch 21/30\n",
      "241/241 [==============================] - 144s 596ms/step - loss: 0.0497 - accuracy: 1.0000 - val_loss: 0.0451 - val_accuracy: 1.0000 - lr: 1.0000e-04\n",
      "Epoch 22/30\n",
      "241/241 [==============================] - 143s 594ms/step - loss: 0.0920 - accuracy: 0.9895 - val_loss: 0.0400 - val_accuracy: 0.9984 - lr: 1.1220e-04\n",
      "Epoch 23/30\n",
      "241/241 [==============================] - 143s 594ms/step - loss: 0.0427 - accuracy: 0.9982 - val_loss: 0.1283 - val_accuracy: 0.9574 - lr: 1.2589e-04\n",
      "Epoch 24/30\n",
      "241/241 [==============================] - 144s 597ms/step - loss: 0.0311 - accuracy: 0.9996 - val_loss: 0.0325 - val_accuracy: 0.9979 - lr: 1.4125e-04\n",
      "Epoch 25/30\n",
      "241/241 [==============================] - 143s 595ms/step - loss: 0.0292 - accuracy: 0.9987 - val_loss: 0.0234 - val_accuracy: 0.9990 - lr: 1.5849e-04\n",
      "Epoch 26/30\n",
      "241/241 [==============================] - 143s 595ms/step - loss: 0.0276 - accuracy: 0.9971 - val_loss: 0.0427 - val_accuracy: 0.9917 - lr: 1.7783e-04\n",
      "Epoch 27/30\n",
      "241/241 [==============================] - 143s 594ms/step - loss: 0.0287 - accuracy: 0.9964 - val_loss: 0.0137 - val_accuracy: 1.0000 - lr: 1.9953e-04\n",
      "Epoch 28/30\n",
      "241/241 [==============================] - 144s 599ms/step - loss: 0.0121 - accuracy: 1.0000 - val_loss: 0.0107 - val_accuracy: 1.0000 - lr: 2.2387e-04\n",
      "Epoch 29/30\n",
      "241/241 [==============================] - 144s 597ms/step - loss: 0.0346 - accuracy: 0.9943 - val_loss: 0.0109 - val_accuracy: 0.9995 - lr: 2.5119e-04\n",
      "Epoch 30/30\n",
      "241/241 [==============================] - 143s 594ms/step - loss: 0.0112 - accuracy: 0.9991 - val_loss: 0.0236 - val_accuracy: 0.9974 - lr: 2.8184e-04\n"
     ]
    }
   ],
   "source": [
    "# Callbacks para Early Stopping y Learning Rate Scheduler\n",
    "early_stopping = tf.keras.callbacks.EarlyStopping(monitor='val_loss', patience=5, restore_best_weights=True)\n",
    "lr_schedule = tf.keras.callbacks.LearningRateScheduler(lambda epoch: 1e-5 * 10 ** (epoch / 20))\n",
    "\n",
    "# Entrenamiento del modelo\n",
    "history = model.fit(\n",
    "    train_dataset,\n",
    "    validation_data=validation_dataset,\n",
    "    epochs=30,\n",
    "    callbacks=[early_stopping, lr_schedule]\n",
    ")"
   ]
  },
  {
   "cell_type": "code",
   "execution_count": 9,
   "metadata": {},
   "outputs": [
    {
     "name": "stdout",
     "output_type": "stream",
     "text": [
      "41/41 [==============================] - 1s 25ms/step - loss: 7.8784 - accuracy: 0.4569\n",
      "Pérdida en el conjunto de test: 7.87844705581665\n",
      "Precisión en el conjunto de test: 0.4569433629512787\n",
      "41/41 [==============================] - 2s 25ms/step\n"
     ]
    },
    {
     "data": {
      "image/png": "[encoded data removed]",
      "text/plain": [
       "<Figure size 800x600 with 2 Axes>"
      ]
     },
     "metadata": {},
     "output_type": "display_data"
    },
    {
     "name": "stdout",
     "output_type": "stream",
     "text": [
      "\n",
      "Reporte de Clasificación:\n",
      "              precision    recall  f1-score   support\n",
      "\n",
      "        Fake       0.00      0.00      0.00       700\n",
      "        Real       0.46      1.00      0.63       589\n",
      "\n",
      "    accuracy                           0.46      1289\n",
      "   macro avg       0.23      0.50      0.31      1289\n",
      "weighted avg       0.21      0.46      0.29      1289\n",
      "\n",
      "Precisión Global: 0.4569433669511249\n"
     ]
    },
    {
     "name": "stderr",
     "output_type": "stream",
     "text": [
      "c:\\Users\\isidr\\AppData\\Local\\Programs\\Python\\Python39\\lib\\site-packages\\sklearn\\metrics\\_classification.py:1531: UndefinedMetricWarning: Precision is ill-defined and being set to 0.0 in labels with no predicted samples. Use `zero_division` parameter to control this behavior.\n",
      "  _warn_prf(average, modifier, f\"{metric.capitalize()} is\", len(result))\n",
      "c:\\Users\\isidr\\AppData\\Local\\Programs\\Python\\Python39\\lib\\site-packages\\sklearn\\metrics\\_classification.py:1531: UndefinedMetricWarning: Precision is ill-defined and being set to 0.0 in labels with no predicted samples. Use `zero_division` parameter to control this behavior.\n",
      "  _warn_prf(average, modifier, f\"{metric.capitalize()} is\", len(result))\n",
      "c:\\Users\\isidr\\AppData\\Local\\Programs\\Python\\Python39\\lib\\site-packages\\sklearn\\metrics\\_classification.py:1531: UndefinedMetricWarning: Precision is ill-defined and being set to 0.0 in labels with no predicted samples. Use `zero_division` parameter to control this behavior.\n",
      "  _warn_prf(average, modifier, f\"{metric.capitalize()} is\", len(result))\n"
     ]
    }
   ],
   "source": [
    "#@title Metricas\n",
    "\n",
    "# Evaluación\n",
    "test_loss, test_accuracy = model.evaluate(test_dataset)\n",
    "print(f\"Pérdida en el conjunto de test: {test_loss}\")\n",
    "print(f\"Precisión en el conjunto de test: {test_accuracy}\")\n",
    "\n",
    "# Predicciones\n",
    "true_labels = np.concatenate([y for x, y in test_dataset], axis=0)\n",
    "predictions = model.predict(test_dataset)\n",
    "predicted_labels = (predictions > 0.5).astype(int).reshape(-1)\n",
    "\n",
    "# Matriz de Confusión\n",
    "conf_matrix = confusion_matrix(true_labels, predicted_labels)\n",
    "plt.figure(figsize=(8, 6))\n",
    "sns.heatmap(conf_matrix, annot=True, fmt='d', cmap='Blues',\n",
    "            xticklabels=class_names,\n",
    "            yticklabels=class_names)\n",
    "plt.xlabel('Etiqueta Predicha')\n",
    "plt.ylabel('Etiqueta Verdadera')\n",
    "plt.title('Matriz de Confusión')\n",
    "plt.show()\n",
    "\n",
    "# Reporte de Clasificación\n",
    "print(\"\\nReporte de Clasificación:\")\n",
    "print(classification_report(true_labels, predicted_labels, target_names=class_names))\n",
    "\n",
    "# Precisión Global\n",
    "accuracy = accuracy_score(true_labels, predicted_labels)\n",
    "print(f\"Precisión Global: {accuracy}\")"
   ]
  },
  {
   "cell_type": "code",
   "execution_count": 10,
   "metadata": {
    "id": "vEF67NZZHyEM"
   },
   "outputs": [
    {
     "data": {
      "image/png": "[encoded data removed]",
      "text/plain": [
       "<Figure size 640x480 with 1 Axes>"
      ]
     },
     "metadata": {},
     "output_type": "display_data"
    },
    {
     "data": {
      "image/png": "[encoded data removed]",
      "text/plain": [
       "<Figure size 640x480 with 1 Axes>"
      ]
     },
     "metadata": {},
     "output_type": "display_data"
    }
   ],
   "source": [
    "# Visualizar los resultados de entrenamiento\n",
    "plt.plot(history.history['accuracy'], label='Precisión entrenamiento')\n",
    "plt.plot(history.history['val_accuracy'], label='Precisión validación')\n",
    "plt.xlabel('Épocas')\n",
    "plt.ylabel('Precisión')\n",
    "plt.legend()\n",
    "plt.show()\n",
    "\n",
    "plt.plot(history.history['loss'], label='Pérdida entrenamiento')\n",
    "plt.plot(history.history['val_loss'], label='Pérdida validación')\n",
    "plt.xlabel('Épocas')\n",
    "plt.ylabel('Pérdida')\n",
    "plt.legend()\n",
    "plt.show()"
   ]
  },
  {
   "cell_type": "code",
   "execution_count": null,
   "metadata": {},
   "outputs": [],
   "source": []
  }
 ],
 "metadata": {
  "colab": {
   "provenance": []
  },
  "kernelspec": {
   "display_name": "Python 3 (ipykernel)",
   "language": "python",
   "name": "python3"
  },
  "language_info": {
   "codemirror_mode": {
    "name": "ipython",
    "version": 3
   },
   "file_extension": ".py",
   "mimetype": "text/x-python",
   "name": "python",
   "nbconvert_exporter": "python",
   "pygments_lexer": "ipython3",
   "version": "3.9.13"
  }
 },
 "nbformat": 4,
 "nbformat_minor": 4
}
