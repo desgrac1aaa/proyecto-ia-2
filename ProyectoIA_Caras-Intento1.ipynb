{
 "cells": [
  {
   "cell_type": "markdown",
   "metadata": {
    "id": "Ks6vLaEIvpPW"
   },
   "source": [
    "# **Identificación de Imágenes Auténticas y Sintéticas : Abordando los Desafíos de las Imágenes Sintéticas en la Sociedad Actual**"
   ]
  },
  {
   "cell_type": "markdown",
   "metadata": {
    "id": "bb4qq8PqUy1C"
   },
   "source": [
    "**Contenido**\n",
    "1. [Configuración del Entorno](#title1)\n",
    "2. [Construcción del Conjunto de Datos](#title2)\n",
    "3. [Prueba de Diferentes Clasificadores](#title3)"
   ]
  },
  {
   "cell_type": "markdown",
   "metadata": {
    "id": "glMN5HvjVDTW"
   },
   "source": [
    "## Configuración del Entorno<a name=\"title1\"></a>"
   ]
  },
  {
   "cell_type": "markdown",
   "metadata": {
    "id": "JTExSVZUVzAC"
   },
   "source": [
    "Importamos todas las librerías de uso."
   ]
  },
  {
   "cell_type": "code",
   "execution_count": 12,
   "metadata": {},
   "outputs": [
    {
     "name": "stdout",
     "output_type": "stream",
     "text": [
      "[PhysicalDevice(name='/physical_device:GPU:0', device_type='GPU')]\n",
      "2.10.0\n"
     ]
    }
   ],
   "source": [
    "import tensorflow as tf\n",
    "print(tf.config.experimental.list_physical_devices(\"GPU\"))\n",
    "print(tf.__version__)"
   ]
  },
  {
   "cell_type": "code",
   "execution_count": 13,
   "metadata": {
    "executionInfo": {
     "elapsed": 9701,
     "status": "ok",
     "timestamp": 1731341832412,
     "user": {
      "displayName": "Deciré Jaimes",
      "userId": "01417579230318043908"
     },
     "user_tz": 300
    },
    "id": "4nGU9yscxo7n"
   },
   "outputs": [],
   "source": [
    "import numpy as np\n",
    "import matplotlib.pyplot as plt\n",
    "import pandas as pd\n",
    "import seaborn as sns\n",
    "import scipy.stats as stats\n",
    "import glob\n",
    "import cv2\n",
    "from tensorflow.keras import layers, models\n",
    "from keras.applications.mobilenet_v2 import MobileNetV2, preprocess_input as preprocess_input_mobilenetv2\n",
    "from tensorflow.keras.callbacks import Callback, ModelCheckpoint\n",
    "from tensorflow.keras.preprocessing.image import ImageDataGenerator\n",
    "from tensorflow.keras.models import Sequential, Model, load_model\n",
    "from tensorflow.keras.preprocessing.image import load_img, img_to_array\n",
    "from tensorflow.keras.optimizers import Adam\n",
    "from tensorflow.keras.callbacks import ModelCheckpoint, EarlyStopping\n",
    "from tensorflow.keras.layers import GlobalAveragePooling2D, Dense, Conv2D, Flatten, MaxPooling2D, Dropout, SpatialDropout2D\n",
    "from tensorflow.keras.metrics import Accuracy, AUC, Precision, Recall, TruePositives, TrueNegatives, FalsePositives, FalseNegatives\n",
    "from sklearn.model_selection import train_test_split\n",
    "from sklearn import metrics\n",
    "import tensorflow as tf\n",
    "import matplotlib.image as mpmig\n",
    "from keras.utils import to_categorical\n",
    "import os\n",
    "sns.set_theme()"
   ]
  },
  {
   "cell_type": "markdown",
   "metadata": {
    "id": "4qxgLE4aWYZ1"
   },
   "source": [
    "## Construcción del Conjunto de Datos y Preprocesandolos<a name=\"title2\"></a>"
   ]
  },
  {
   "cell_type": "markdown",
   "metadata": {
    "id": "Si1mUNfNhef9"
   },
   "source": [
    "Fuente: https://www.kaggle.com/datasets/kaustubhdhote/human-faces-dataset\n",
    "Importamos los archivos con los datos codificados en identificadores."
   ]
  },
  {
   "cell_type": "code",
   "execution_count": 14,
   "metadata": {
    "executionInfo": {
     "elapsed": 283,
     "status": "ok",
     "timestamp": 1731341896114,
     "user": {
      "displayName": "Deciré Jaimes",
      "userId": "01417579230318043908"
     },
     "user_tz": 300
    },
    "id": "zhaLfYHlEp6B"
   },
   "outputs": [],
   "source": [
    "#Ruta de las imágenes\n",
    "real_images_path = './Data/Train/Real'\n",
    "fake_images_path = './Data/Train/Fake'\n",
    "real_images_path_test = './Data/Test/Real'\n",
    "fake_images_path_test = './Data/Test/Fake'"
   ]
  },
  {
   "cell_type": "code",
   "execution_count": 15,
   "metadata": {
    "executionInfo": {
     "elapsed": 184,
     "status": "ok",
     "timestamp": 1731341920891,
     "user": {
      "displayName": "Deciré Jaimes",
      "userId": "01417579230318043908"
     },
     "user_tz": 300
    },
    "id": "Z_zqm-Lo9oFa"
   },
   "outputs": [],
   "source": [
    "#Preprocesar imágenes (redimensionar, normalizar y asegurar formato RGB)\n",
    "real_images = []\n",
    "fake_images = []\n",
    "\n",
    "# Función para cargar una imagen\n",
    "def load_image(img_path):\n",
    "    \"\"\"\n",
    "    Carga una imagen desde la ruta dada y convierte de BGR a RGB.\n",
    "    \"\"\"\n",
    "    img = cv2.imread(img_path)\n",
    "    if img is not None:\n",
    "        img = cv2.cvtColor(img, cv2.COLOR_BGR2RGB)  # Convertir de BGR a RGB\n",
    "    return img\n",
    "\n",
    "# Función para redimensionar una imagen\n",
    "def resize_image(img, image_size=(178, 178)):\n",
    "    \"\"\"\n",
    "    Redimensiona una imagen al tamaño especificado.\n",
    "    \"\"\"\n",
    "    if img is not None:\n",
    "        img = cv2.resize(img, image_size)\n",
    "    return img\n",
    "\n",
    "# Función para normalizar una imagen\n",
    "def normalize_image(img):\n",
    "    \"\"\"\n",
    "    Normaliza los valores de la imagen a [0, 1].\n",
    "    \"\"\"\n",
    "    if img is not None:\n",
    "        img = img / 255.0\n",
    "    return img"
   ]
  },
  {
   "cell_type": "code",
   "execution_count": 16,
   "metadata": {},
   "outputs": [],
   "source": [
    "# Cargar, redimensionar y normalizar imágenes\n",
    "def process_images_from_folder(folder, image_size=(178, 178)):\n",
    "    images = []\n",
    "    for filename in os.listdir(folder):\n",
    "        img_path = os.path.join(folder, filename)\n",
    "        img = load_image(img_path)  # Cargar imagen\n",
    "        if img is not None:\n",
    "            img = resize_image(img, image_size)  # Redimensionar\n",
    "            img = normalize_image(img)  # Normalizar\n",
    "            images.append(img)\n",
    "    return images"
   ]
  },
  {
   "cell_type": "markdown",
   "metadata": {
    "id": "fy07St2fSjpW"
   },
   "source": [
    "# Modelo<a name=\"title3\"></a>\n",
    "\n"
   ]
  },
  {
   "cell_type": "markdown",
   "metadata": {
    "id": "8Y_QX3F4Ed8H"
   },
   "source": [
    "Cargar la Data"
   ]
  },
  {
   "cell_type": "code",
   "execution_count": 18,
   "metadata": {
    "id": "c-FqXLcHEV1-"
   },
   "outputs": [],
   "source": [
    "# Procesar imágenes de entrenamiento\n",
    "real_images_train = process_images_from_folder(real_images_path)\n",
    "fake_images_train = process_images_from_folder(fake_images_path)\n",
    "\n",
    "# Procesar imágenes de prueba\n",
    "real_images_test = process_images_from_folder(real_images_path_test)\n",
    "fake_images_test = process_images_from_folder(fake_images_path_test)"
   ]
  },
  {
   "cell_type": "code",
   "execution_count": 19,
   "metadata": {
    "id": "Ucs3kTV1CgXy"
   },
   "outputs": [],
   "source": [
    "#Filtrar imágenes no válidas\n",
    "real_images_train = [img for img in real_images_train if img is not None]\n",
    "fake_images_train = [img for img in fake_images_train if img is not None]\n",
    "real_images_test = [img for img in real_images_test if img is not None]\n",
    "fake_images_test = [img for img in fake_images_test if img is not None]\n",
    "\n",
    "#Convertir listas a arrays de NumPy\n",
    "X_train = np.array(real_images_train + fake_images_train)\n",
    "y_train = np.array([0] * len(real_images_train) + [1] * len(fake_images_train))  # Etiquetas: 0 = real, 1 = generada\n",
    "X_test = np.array(real_images_test + fake_images_test)\n",
    "y_test = np.array([0] * len(real_images_test) + [1] * len(fake_images_test))  # Etiquetas: 0 = real, 1 = generada"
   ]
  },
  {
   "cell_type": "markdown",
   "metadata": {
    "id": "FMUcVkYmHq3m"
   },
   "source": [
    "Crear el modelo"
   ]
  },
  {
   "cell_type": "code",
   "execution_count": 20,
   "metadata": {
    "id": "jVpkCu8cHs9L"
   },
   "outputs": [
    {
     "name": "stdout",
     "output_type": "stream",
     "text": [
      "Model: \"sequential\"\n",
      "_________________________________________________________________\n",
      " Layer (type)                Output Shape              Param #   \n",
      "=================================================================\n",
      " conv2d (Conv2D)             (None, 176, 176, 32)      896       \n",
      "                                                                 \n",
      " max_pooling2d (MaxPooling2D  (None, 88, 88, 32)       0         \n",
      " )                                                               \n",
      "                                                                 \n",
      " conv2d_1 (Conv2D)           (None, 86, 86, 64)        18496     \n",
      "                                                                 \n",
      " max_pooling2d_1 (MaxPooling  (None, 43, 43, 64)       0         \n",
      " 2D)                                                             \n",
      "                                                                 \n",
      " conv2d_2 (Conv2D)           (None, 41, 41, 128)       73856     \n",
      "                                                                 \n",
      " max_pooling2d_2 (MaxPooling  (None, 20, 20, 128)      0         \n",
      " 2D)                                                             \n",
      "                                                                 \n",
      " flatten (Flatten)           (None, 51200)             0         \n",
      "                                                                 \n",
      " dense (Dense)               (None, 128)               6553728   \n",
      "                                                                 \n",
      " dense_1 (Dense)             (None, 1)                 129       \n",
      "                                                                 \n",
      "=================================================================\n",
      "Total params: 6,647,105\n",
      "Trainable params: 6,647,105\n",
      "Non-trainable params: 0\n",
      "_________________________________________________________________\n"
     ]
    }
   ],
   "source": [
    "model = models.Sequential([\n",
    "    layers.Conv2D(32, (3, 3), activation='relu', input_shape=(178, 178, 3)),\n",
    "    layers.MaxPooling2D((2, 2)),\n",
    "    layers.Conv2D(64, (3, 3), activation='relu'),\n",
    "    layers.MaxPooling2D((2, 2)),\n",
    "    layers.Conv2D(128, (3, 3), activation='relu'),\n",
    "    layers.MaxPooling2D((2, 2)),\n",
    "    layers.Flatten(),\n",
    "    layers.Dense(128, activation='relu'),\n",
    "    layers.Dense(1, activation='sigmoid')  # Salida binaria: 0 = real, 1 = generada\n",
    "])\n",
    "\n",
    "model.compile(optimizer='adam',\n",
    "              loss='binary_crossentropy',\n",
    "              metrics=['accuracy'])\n",
    "\n",
    "model.summary()"
   ]
  },
  {
   "cell_type": "code",
   "execution_count": null,
   "metadata": {
    "id": "Mzar0BhcHvzR"
   },
   "outputs": [],
   "source": [
    "early_stopping = EarlyStopping(monitor='val_loss', patience=30, restore_best_weights=True)\n",
    "reduce_lr = ReduceLROnPlateau(monitor='val_loss', factor=0.1, patience=15, min_lr=1e-7)\n",
    "# Añadir un scheduler de tasa de aprendizaje para ajustarla progresivamente\n",
    "def scheduler(epoch, lr):\n",
    "    if epoch < 10:\n",
    "        return lr\n",
    "    else:\n",
    "        return lr * tf.math.exp(-0.1)\n",
    "\n",
    "lr_scheduler = LearningRateScheduler(scheduler)\n",
    "\n",
    "history = model.fit(X_train_split, y_train_split, batch_size=32, epochs=100, validation_data=(X_test, y_test),\n",
    "                    callbacks=[early_stopping, reduce_lr, lr_scheduler])"
   ]
  },
  {
   "cell_type": "code",
   "execution_count": 22,
   "metadata": {},
   "outputs": [
    {
     "name": "stdout",
     "output_type": "stream",
     "text": [
      "41/41 - 0s - loss: 1.1959 - accuracy: 0.8697 - 331ms/epoch - 8ms/step\n",
      "Precisión en el conjunto de prueba: 0.87\n"
     ]
    }
   ],
   "source": [
    "# Evaluar el modelo en el conjunto de prueba\n",
    "test_loss, test_acc = model.evaluate(X_test, y_test, verbose=2)\n",
    "print(f'Precisión en el conjunto de prueba: {test_acc:.2f}')"
   ]
  },
  {
   "cell_type": "code",
   "execution_count": 24,
   "metadata": {
    "id": "vEF67NZZHyEM"
   },
   "outputs": [
    {
     "data": {
      "image/png": "[encoded data removed]",
      "text/plain": [
       "<Figure size 640x480 with 1 Axes>"
      ]
     },
     "metadata": {},
     "output_type": "display_data"
    },
    {
     "data": {
      "image/png": "[encoded data removed]",
      "text/plain": [
       "<Figure size 640x480 with 1 Axes>"
      ]
     },
     "metadata": {},
     "output_type": "display_data"
    }
   ],
   "source": [
    "# Visualizar los resultados de entrenamiento\n",
    "plt.plot(history.history['accuracy'], label='Precisión entrenamiento')\n",
    "plt.plot(history.history['val_accuracy'], label='Precisión validación')\n",
    "plt.xlabel('Épocas')\n",
    "plt.ylabel('Precisión')\n",
    "plt.legend()\n",
    "plt.show()\n",
    "\n",
    "plt.plot(history.history['loss'], label='Pérdida entrenamiento')\n",
    "plt.plot(history.history['val_loss'], label='Pérdida validación')\n",
    "plt.xlabel('Épocas')\n",
    "plt.ylabel('Pérdida')\n",
    "plt.legend()\n",
    "plt.show()"
   ]
  },
  {
   "cell_type": "code",
   "execution_count": null,
   "metadata": {},
   "outputs": [],
   "source": []
  }
 ],
 "metadata": {
  "colab": {
   "provenance": []
  },
  "kernelspec": {
   "display_name": "Python 3 (ipykernel)",
   "language": "python",
   "name": "python3"
  },
  "language_info": {
   "codemirror_mode": {
    "name": "ipython",
    "version": 3
   },
   "file_extension": ".py",
   "mimetype": "text/x-python",
   "name": "python",
   "nbconvert_exporter": "python",
   "pygments_lexer": "ipython3",
   "version": "3.9.13"
  }
 },
 "nbformat": 4,
 "nbformat_minor": 4
}
